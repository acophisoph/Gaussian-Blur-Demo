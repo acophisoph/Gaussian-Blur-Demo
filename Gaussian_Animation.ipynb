{
  "nbformat": 4,
  "nbformat_minor": 0,
  "metadata": {
    "colab": {
      "name": "Gaussian Animation.ipynb",
      "provenance": []
    },
    "kernelspec": {
      "name": "python3",
      "display_name": "Python 3"
    },
    "language_info": {
      "name": "python"
    }
  },
  "cells": [
    {
      "cell_type": "code",
      "execution_count": null,
      "metadata": {
        "id": "BuSc94J0_Che"
      },
      "outputs": [],
      "source": [
        "import numpy as np\n",
        "import matplotlib.pyplot as plt\n",
        "from matplotlib import cm\n",
        "from mpl_toolkits.mplot3d import Axes3D\n",
        "from matplotlib.animation import FuncAnimation\n",
        "\n",
        "!pip install PyQt5\n",
        "import PyQt5\n",
        "\n",
        "\n",
        "# Our 2-dimensional distribution will be over variables X and Y\n",
        "N = 40\n",
        "X = np.linspace(-2, 2, N)\n",
        "Y = np.linspace(-2, 2, N)\n",
        "X, Y = np.meshgrid(X, Y)\n",
        "\n",
        "# Mean vector and covariance matrix\n",
        "mu = np.array([0., 0.])\n",
        "Sigma = np.array([[ 1. , 0], [0,  1.]])\n",
        "\n",
        "# Pack X and Y into a single 3-dimensional array\n",
        "pos = np.empty(X.shape + (2,))\n",
        "pos[:, :, 0] = X\n",
        "pos[:, :, 1] = Y\n",
        "\n",
        "def multivariate_gaussian(pos, mu, Sigma):\n",
        "    \"\"\"Return the multivariate Gaussian distribution on array pos.\"\"\"\n",
        "\n",
        "    n = mu.shape[0]\n",
        "    Sigma_det = np.linalg.det(Sigma)\n",
        "    Sigma_inv = np.linalg.inv(Sigma)\n",
        "    N = np.sqrt((2*np.pi)**n * Sigma_det)\n",
        "    # This einsum call calculates (x-mu)T.Sigma-1.(x-mu) in a vectorized\n",
        "    # way across all the input variables.\n",
        "    fac = np.einsum('...k,kl,...l->...', pos-mu, Sigma_inv, pos-mu)\n",
        "\n",
        "    return np.exp(-fac / 2) / N\n",
        "\n",
        "# The distribution on the variables X, Y packed into pos.\n",
        "Z = multivariate_gaussian(pos, mu, Sigma)\n",
        "\n",
        "# plot using subplots\n",
        "fig = plt.figure()\n",
        "ax1 = fig.add_subplot(2,1,1,projection='3d')\n",
        "\n",
        "ax1.plot_surface(X, Y, Z, rstride=3, cstride=3, linewidth=1, antialiased=True,\n",
        "                cmap=cm.viridis)\n",
        "ax1.view_init(55,-70)\n",
        "ax1.set_xticks([])\n",
        "ax1.set_yticks([])\n",
        "ax1.set_zticks([])\n",
        "ax1.set_xlabel(r'$x_1$')\n",
        "ax1.set_ylabel(r'$x_2$')\n",
        "\n",
        "ax2 = fig.add_subplot(2,1,2,projection='3d')\n",
        "ax2.contourf(X, Y, Z, zdir='z', offset=0, cmap=cm.viridis)\n",
        "ax2.view_init(90, 270)\n",
        "\n",
        "ax2.grid(False)\n",
        "ax2.set_xticks([])\n",
        "ax2.set_yticks([])\n",
        "ax2.set_zticks([])\n",
        "ax2.set_xlabel(r'$x_1$')\n",
        "ax2.set_ylabel(r'$x_2$')\n",
        "\n",
        "\n",
        "#####INTERACTIVE PLOT\n",
        "%matplotlib notebook\n",
        "#####"
      ]
    },
    {
      "cell_type": "markdown",
      "source": [
        "https://stackoverflow.com/questions/28342968/how-to-plot-a-2d-gaussian-with-different-sigma\n",
        "\n",
        "https://stackoverflow.com/questions/52346254/importerror-failed-to-import-any-qt-binding-python-tensorflow\n"
      ],
      "metadata": {
        "id": "IgWCa5uTAH8w"
      }
    },
    {
      "cell_type": "code",
      "source": [
        "###FOR GOOGLE COLAB ONLY\n",
        "import datetime\n",
        "from datetime import date\n",
        "import pandas as pd\n",
        "from plotly import __version__\n",
        "%matplotlib inline\n",
        "\n",
        "import plotly.offline as pyo\n",
        "import plotly.graph_objs as go\n",
        "from plotly.offline import iplot\n",
        "\n",
        "import cufflinks as cf\n",
        "from plotly.offline import download_plotlyjs, init_notebook_mode, plot, iplot \n",
        "\n",
        "\n",
        "cf.go_offline()\n",
        "\n",
        "init_notebook_mode(connected=False)\n",
        "\n",
        "def configure_plotly_browser_state():\n",
        "  import IPython\n",
        "  display(IPython.core.display.HTML('''\n",
        "        <script src=\"/static/components/requirejs/require.js\"></script>\n",
        "        <script>\n",
        "          requirejs.config({\n",
        "            paths: {\n",
        "              base: '/static/base',\n",
        "              plotly: 'https://cdn.plot.ly/plotly-1.5.1.min.js?noext',\n",
        "            },\n",
        "          });\n",
        "        </script>\n",
        "        '''))\n",
        "\n",
        "\n",
        "from matplotlib import animation, rc\n",
        "from IPython.display import HTML\n",
        "\n",
        "line, = ax1.plot([], [], lw=2)\n",
        "\n",
        "# initialization function: plot the background of each frame\n",
        "def init():\n",
        "    line.set_data([], [])\n",
        "    return (line,)\n",
        "\n",
        "# animation function. This is called sequentially  \n",
        "def animate(i):\n",
        "    x = np.linspace(0, 2, 1000)\n",
        "    y = np.sin(2 * np.pi * (x - 0.01 * i))\n",
        "    line.set_data(x, y)\n",
        "    return (line,)\n",
        "\n",
        "\n",
        "anim = FuncAnimation(fig, animate, init_func=init,\n",
        "                             frames=100, interval=100, blit=True)\n",
        "\n",
        "# Note: below is the part which makes it work on Colab\n",
        "rc('animation', html='jshtml')\n",
        "anim\n",
        "\n",
        "\n",
        "configure_plotly_browser_state()\n",
        "df.iplot(kind='line',x='month',y=['Year_2018', 'Year_1996'], color=['white', 'gold'], \n",
        "theme='solar', mode='markers+lines',title='Annual Rainfall in the city Peachtree City, GA')\n",
        "plt.show()\n",
        "###"
      ],
      "metadata": {
        "id": "m63T2IGnLqeL"
      },
      "execution_count": null,
      "outputs": []
    },
    {
      "cell_type": "markdown",
      "source": [
        "*Google Colab Interactive Code*\n",
        "https://stackoverflow.com/questions/52859983/interactive-matplotlib-figures-in-google-colab"
      ],
      "metadata": {
        "id": "KsT1oD6aLyYy"
      }
    },
    {
      "cell_type": "code",
      "source": [
        "def rotate(angle):\n",
        "    ax1.view_init(azim=angle)\n",
        "rot_animation = FuncAnimation(fig, rotate, frames=np.arange(0,362,2),interval=100)\n",
        "\n",
        "rot_animation.save(filename='normalcurve.gif', dpi=80, writer='pillow')"
      ],
      "metadata": {
        "id": "2ElyoY3fHaht"
      },
      "execution_count": null,
      "outputs": []
    },
    {
      "cell_type": "markdown",
      "source": [
        "*use this to export as a gif*\n",
        "\n",
        "https://stackoverflow.com/questions/43180357/how-to-rotate-a-3d-plot-in-python-or-as-a-animation-rotate-3-d-view-using-mou"
      ],
      "metadata": {
        "id": "xbAdMqX1HbNx"
      }
    },
    {
      "cell_type": "code",
      "source": [
        "from matplotlib import pyplot as mp\n",
        "import numpy as np\n",
        "\n",
        "def gaussian(x, mu, sig):\n",
        "    return np.exp(-np.power(x - mu, 2.) / (2 * np.power(sig, 2.)))\n",
        "\n",
        "x_values = np.linspace(-3, 3, 120)\n",
        "for mu, sig in [(-1, 1), (0, 2), (2, 3)]:\n",
        "    mp.plot(x_values, gaussian(x_values, mu, sig))\n",
        "\n",
        "mp.show()"
      ],
      "metadata": {
        "id": "bxlAHuUmAERd"
      },
      "execution_count": null,
      "outputs": []
    },
    {
      "cell_type": "markdown",
      "source": [
        "https://stackoverflow.com/questions/14873203/plotting-of-1-dimensional-gaussian-distribution-function"
      ],
      "metadata": {
        "id": "wjfFrGpqAGUd"
      }
    }
  ]
}